{
 "cells": [
  {
   "cell_type": "code",
   "execution_count": null,
   "metadata": {},
   "outputs": [],
   "source": [
    "# ========================================\n",
    "\n",
    "TAXON = 'Canis'\n",
    "\n",
    "# ========================================\n",
    "\n",
    "import requests\n",
    "from IPython.display import IFrame\n",
    "import re\n",
    "\n",
    "\n",
    "def show_site(url):\n",
    "    print(url)\n",
    "    return IFrame(url, width='100%', height=450)\n",
    "\n",
    "def fetch_taxon_info(taxon):\n",
    "    gbif_source_id=11\n",
    "    ncbi_source_id=4\n",
    "\n",
    "    url = f\"http://resolver.globalnames.org/name_resolvers.json?data_source_ids={gbif_source_id}|{ncbi_source_id}&resolve_once=false&names={taxon}\"    \n",
    "    ids = {'gbif': None, 'ncbi': None}\n",
    "    classifications = {'gbif': None, 'ncbi': None}\n",
    "    \n",
    "    print(url)\n",
    "\n",
    "    result = requests.get(url)\n",
    "    data = result.json()['data'][0]\n",
    "\n",
    "    if data['is_known_name'] == True: \n",
    "        results = data['results']\n",
    "\n",
    "        for value in results:\n",
    "            if(value['data_source_id'] == gbif_source_id and ids['gbif'] == None):\n",
    "                ids['gbif'] = value['taxon_id']\n",
    "                classifications['gbif'] = {'names': value['classification_path'], 'ranks': value['classification_path_ranks']}\n",
    "            elif(value['data_source_id'] == ncbi_source_id  and ids['ncbi'] == None):\n",
    "                ids['ncbi'] = value['taxon_id']\n",
    "                classifications['ncbi'] = {'names': value['classification_path'], 'ranks': value['classification_path_ranks']}\n",
    "\n",
    "    return {'ids': ids, 'classifications': classifications }\n",
    "\n",
    "def display_classification(classification):\n",
    "    if classification:\n",
    "        names = classification['names'].split('|')\n",
    "        ranks = classification['ranks'].split('|')\n",
    "        for index, rank in enumerate(ranks):\n",
    "            if names[index] == '' :\n",
    "                continue\n",
    "            print(f\"{rank if rank else 'no rank'}: {names[index]}\")\n",
    "    else:\n",
    "        print('Taxa not found')\n",
    "              \n",
    "def fetch_common_names(taxon):\n",
    "    url = f\"https://api.inaturalist.org/v1/taxa?q={taxon}\"\n",
    "                  \n",
    "    result = requests.get(url)\n",
    "    data = result.json()['results']  \n",
    "\n",
    "    if len(data) > 0:                 \n",
    "        if 'preferred_common_name' in data[0]:\n",
    "            return data[0]['preferred_common_name']\n",
    "        else:\n",
    "            return 'Common name not found'\n",
    "    else: \n",
    "        return 'Taxa not found'\n",
    "                  \n",
    "def display_globi(taxon):\n",
    "    url = f\"https://api.globalbioticinteractions.org/interaction?sourceTaxon={taxon}&type=json.v2\"\n",
    "    result = requests.get(url)\n",
    "    data = result.json()\n",
    "                  \n",
    "    for record in data:\n",
    "        interaction = re.sub('([A-Z]{1})', r' \\1', record['interaction_type']).lower()\n",
    "        print(f\"{record['source_taxon_name']} {interaction} {record['target_taxon_name']}\")\n",
    "    "
   ]
  },
  {
   "cell_type": "code",
   "execution_count": null,
   "metadata": {},
   "outputs": [],
   "source": [
    "info = fetch_taxon_info(TAXON)\n",
    "ids = info['ids']\n",
    "classifications = info['classifications']"
   ]
  },
  {
   "cell_type": "code",
   "execution_count": null,
   "metadata": {},
   "outputs": [],
   "source": [
    "print('Classifications')\n",
    "print()\n",
    "print('NCBI classification')\n",
    "print()\n",
    "display_classification(classifications['ncbi'])\n",
    "print()\n",
    "print('GBIF classification')\n",
    "print()\n",
    "display_classification(classifications['gbif'])"
   ]
  },
  {
   "cell_type": "code",
   "execution_count": null,
   "metadata": {},
   "outputs": [],
   "source": [
    "name = fetch_common_names(TAXON)\n",
    "\n",
    "print('Common names')\n",
    "print()\n",
    "print(name)\n"
   ]
  },
  {
   "cell_type": "code",
   "execution_count": null,
   "metadata": {},
   "outputs": [],
   "source": [
    "url = f\"https://en.wikipedia.org/wiki/{TAXON}\"\n",
    "show_site(url)"
   ]
  },
  {
   "cell_type": "code",
   "execution_count": null,
   "metadata": {
    "scrolled": false
   },
   "outputs": [],
   "source": [
    "id = ids['gbif']\n",
    "url = f\"https://www.gbif.org/species/{id}\"\n",
    "show_site(url)"
   ]
  },
  {
   "cell_type": "code",
   "execution_count": null,
   "metadata": {
    "scrolled": false
   },
   "outputs": [],
   "source": [
    "id = ids['ncbi']\n",
    "url = f\"http://lifemap-ncbi.univ-lyon1.fr/?tid={id}\"\n",
    "show_site(url)"
   ]
  },
  {
   "cell_type": "code",
   "execution_count": null,
   "metadata": {},
   "outputs": [],
   "source": [
    "id = ids['ncbi']\n",
    "url = f\"https://www.ncbi.nlm.nih.gov/Taxonomy/Browser/wwwtax.cgi?mode=Info&id={id}\"\n",
    "show_site(url)"
   ]
  },
  {
   "cell_type": "code",
   "execution_count": null,
   "metadata": {},
   "outputs": [],
   "source": [
    "display_globi(TAXON)"
   ]
  }
 ],
 "metadata": {
  "kernelspec": {
   "display_name": "Python 3",
   "language": "python",
   "name": "python3"
  },
  "language_info": {
   "codemirror_mode": {
    "name": "ipython",
    "version": 3
   },
   "file_extension": ".py",
   "mimetype": "text/x-python",
   "name": "python",
   "nbconvert_exporter": "python",
   "pygments_lexer": "ipython3",
   "version": "3.6.6"
  }
 },
 "nbformat": 4,
 "nbformat_minor": 2
}
